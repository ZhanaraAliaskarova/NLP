{
 "cells": [
  {
   "cell_type": "code",
   "execution_count": 5,
   "id": "0dcf0050",
   "metadata": {},
   "outputs": [],
   "source": [
    "#import all necessary libraries\n",
    "import pandas as pd\n",
    "import numpy as np\n",
    "import nltk\n",
    "import re\n",
    "from nltk.stem import WordNetLemmatizer \n",
    "from sklearn.metrics import accuracy_score"
   ]
  },
  {
   "cell_type": "code",
   "execution_count": 20,
   "id": "ae4afbc9",
   "metadata": {},
   "outputs": [
    {
     "data": {
      "text/html": [
       "<div>\n",
       "<style scoped>\n",
       "    .dataframe tbody tr th:only-of-type {\n",
       "        vertical-align: middle;\n",
       "    }\n",
       "\n",
       "    .dataframe tbody tr th {\n",
       "        vertical-align: top;\n",
       "    }\n",
       "\n",
       "    .dataframe thead th {\n",
       "        text-align: right;\n",
       "    }\n",
       "</style>\n",
       "<table border=\"1\" class=\"dataframe\">\n",
       "  <thead>\n",
       "    <tr style=\"text-align: right;\">\n",
       "      <th></th>\n",
       "      <th>review</th>\n",
       "      <th>sentiment</th>\n",
       "    </tr>\n",
       "  </thead>\n",
       "  <tbody>\n",
       "    <tr>\n",
       "      <th>0</th>\n",
       "      <td>One of the other reviewers has mentioned that ...</td>\n",
       "      <td>positive</td>\n",
       "    </tr>\n",
       "    <tr>\n",
       "      <th>1</th>\n",
       "      <td>A wonderful little production. &lt;br /&gt;&lt;br /&gt;The...</td>\n",
       "      <td>positive</td>\n",
       "    </tr>\n",
       "    <tr>\n",
       "      <th>2</th>\n",
       "      <td>I thought this was a wonderful way to spend ti...</td>\n",
       "      <td>positive</td>\n",
       "    </tr>\n",
       "    <tr>\n",
       "      <th>3</th>\n",
       "      <td>Basically there's a family where a little boy ...</td>\n",
       "      <td>negative</td>\n",
       "    </tr>\n",
       "    <tr>\n",
       "      <th>4</th>\n",
       "      <td>Petter Mattei's \"Love in the Time of Money\" is...</td>\n",
       "      <td>positive</td>\n",
       "    </tr>\n",
       "  </tbody>\n",
       "</table>\n",
       "</div>"
      ],
      "text/plain": [
       "                                              review sentiment\n",
       "0  One of the other reviewers has mentioned that ...  positive\n",
       "1  A wonderful little production. <br /><br />The...  positive\n",
       "2  I thought this was a wonderful way to spend ti...  positive\n",
       "3  Basically there's a family where a little boy ...  negative\n",
       "4  Petter Mattei's \"Love in the Time of Money\" is...  positive"
      ]
     },
     "execution_count": 20,
     "metadata": {},
     "output_type": "execute_result"
    }
   ],
   "source": [
    "# read excel file\n",
    "d = pd.read_csv('IMDB.csv')\n",
    "d.head()"
   ]
  },
  {
   "cell_type": "code",
   "execution_count": 21,
   "id": "d80142bf",
   "metadata": {},
   "outputs": [],
   "source": [
    "# doing data cleaning with module re\n",
    "def preprocess_row(row):\n",
    "    row = str(row).lower()\n",
    "    row = re.sub(r\"\\<[^<>]*\\>\", \"\", row)\n",
    "    row = re.sub(r'[^A-Za-z ]+', '', row)\n",
    "    \n",
    "    return row"
   ]
  },
  {
   "cell_type": "code",
   "execution_count": 22,
   "id": "a2579b76",
   "metadata": {},
   "outputs": [],
   "source": [
    "# then changing positive to 1 and negative to 0\n",
    "d['review'] = d['review'].map(lambda x: preprocess_row(x))\n",
    "d['sentiment'] = d['sentiment'].map(lambda x: 1 if x=='positive' else 0)"
   ]
  },
  {
   "cell_type": "code",
   "execution_count": 23,
   "id": "3b473732",
   "metadata": {},
   "outputs": [
    {
     "data": {
      "text/html": [
       "<div>\n",
       "<style scoped>\n",
       "    .dataframe tbody tr th:only-of-type {\n",
       "        vertical-align: middle;\n",
       "    }\n",
       "\n",
       "    .dataframe tbody tr th {\n",
       "        vertical-align: top;\n",
       "    }\n",
       "\n",
       "    .dataframe thead th {\n",
       "        text-align: right;\n",
       "    }\n",
       "</style>\n",
       "<table border=\"1\" class=\"dataframe\">\n",
       "  <thead>\n",
       "    <tr style=\"text-align: right;\">\n",
       "      <th></th>\n",
       "      <th>review</th>\n",
       "      <th>sentiment</th>\n",
       "    </tr>\n",
       "  </thead>\n",
       "  <tbody>\n",
       "    <tr>\n",
       "      <th>0</th>\n",
       "      <td>one of the other reviewers has mentioned that ...</td>\n",
       "      <td>1</td>\n",
       "    </tr>\n",
       "    <tr>\n",
       "      <th>1</th>\n",
       "      <td>a wonderful little production the filming tech...</td>\n",
       "      <td>1</td>\n",
       "    </tr>\n",
       "    <tr>\n",
       "      <th>2</th>\n",
       "      <td>i thought this was a wonderful way to spend ti...</td>\n",
       "      <td>1</td>\n",
       "    </tr>\n",
       "    <tr>\n",
       "      <th>3</th>\n",
       "      <td>basically theres a family where a little boy j...</td>\n",
       "      <td>0</td>\n",
       "    </tr>\n",
       "    <tr>\n",
       "      <th>4</th>\n",
       "      <td>petter matteis love in the time of money is a ...</td>\n",
       "      <td>1</td>\n",
       "    </tr>\n",
       "  </tbody>\n",
       "</table>\n",
       "</div>"
      ],
      "text/plain": [
       "                                              review  sentiment\n",
       "0  one of the other reviewers has mentioned that ...          1\n",
       "1  a wonderful little production the filming tech...          1\n",
       "2  i thought this was a wonderful way to spend ti...          1\n",
       "3  basically theres a family where a little boy j...          0\n",
       "4  petter matteis love in the time of money is a ...          1"
      ]
     },
     "execution_count": 23,
     "metadata": {},
     "output_type": "execute_result"
    }
   ],
   "source": [
    "d.head()"
   ]
  },
  {
   "cell_type": "code",
   "execution_count": 24,
   "id": "c005b239",
   "metadata": {},
   "outputs": [
    {
     "data": {
      "text/plain": [
       "(50000, 2)"
      ]
     },
     "execution_count": 24,
     "metadata": {},
     "output_type": "execute_result"
    }
   ],
   "source": [
    "d.shape"
   ]
  },
  {
   "cell_type": "code",
   "execution_count": 25,
   "id": "a7d65311",
   "metadata": {},
   "outputs": [],
   "source": [
    "#divide into two parts x and y\n",
    "x = d.iloc[:, :-1].values\n",
    "y = d.iloc[:, -1].values"
   ]
  },
  {
   "cell_type": "code",
   "execution_count": 26,
   "id": "97b03d6e",
   "metadata": {},
   "outputs": [
    {
     "name": "stdout",
     "output_type": "stream",
     "text": [
      "[['one of the other reviewers has mentioned that after watching just  oz episode youll be hooked they are right as this is exactly what happened with methe first thing that struck me about oz was its brutality and unflinching scenes of violence which set in right from the word go trust me this is not a show for the faint hearted or timid this show pulls no punches with regards to drugs sex or violence its is hardcore in the classic use of the wordit is called oz as that is the nickname given to the oswald maximum security state penitentary it focuses mainly on emerald city an experimental section of the prison where all the cells have glass fronts and face inwards so privacy is not high on the agenda em city is home to manyaryans muslims gangstas latinos christians italians irish and moreso scuffles death stares dodgy dealings and shady agreements are never far awayi would say the main appeal of the show is due to the fact that it goes where other shows wouldnt dare forget pretty pictures painted for mainstream audiences forget charm forget romanceoz doesnt mess around the first episode i ever saw struck me as so nasty it was surreal i couldnt say i was ready for it but as i watched more i developed a taste for oz and got accustomed to the high levels of graphic violence not just violence but injustice crooked guards wholl be sold out for a nickel inmates wholl kill on order and get away with it well mannered middle class inmates being turned into prison bitches due to their lack of street skills or prison experience watching oz you may become comfortable with what is uncomfortable viewingthats if you can get in touch with your darker side']\n",
      " ['a wonderful little production the filming technique is very unassuming very oldtimebbc fashion and gives a comforting and sometimes discomforting sense of realism to the entire piece the actors are extremely well chosen michael sheen not only has got all the polari but he has all the voices down pat too you can truly see the seamless editing guided by the references to williams diary entries not only is it well worth the watching but it is a terrificly written and performed piece a masterful production about one of the great masters of comedy and his life the realism really comes home with the little things the fantasy of the guard which rather than use the traditional dream techniques remains solid then disappears it plays on our knowledge and our senses particularly with the scenes concerning orton and halliwell and the sets particularly of their flat with halliwells murals decorating every surface are terribly well done']\n",
      " ['i thought this was a wonderful way to spend time on a too hot summer weekend sitting in the air conditioned theater and watching a lighthearted comedy the plot is simplistic but the dialogue is witty and the characters are likable even the well bread suspected serial killer while some may be disappointed when they realize this is not match point  risk addiction i thought it was proof that woody allen is still fully in control of the style many of us have grown to lovethis was the most id laughed at one of woodys comedies in years dare i say a decade while ive never been impressed with scarlet johanson in this she managed to tone down her sexy image and jumped right into a average but spirited young womanthis may not be the crown jewel of his career but it was wittier than devil wears prada and more interesting than superman a great comedy to go see with friends']\n",
      " ...\n",
      " ['i am a catholic taught in parochial elementary schools by nuns taught by jesuit priests in high school  college i am still a practicing catholic but would not be considered a good catholic in the churchs eyes because i dont believe certain things or act certain ways just because the church tells me toso back to the movieits bad because two people are killed by this nun who is supposed to be a satire as the embodiment of a female religious figurehead there is no comedy in that and the satire is not done well by the over acting of diane keaton i never saw the play but if it was very different from this movies then it may be goodat first i thought the gun might be a fake and the first shooting all a plan by the female lead of the four former students as an attempt to demonstrate sister marys emotional and intellectual bigotry of faith but it turns out the bullets were real and the story has tragedythe tragedy of loss of life besides the two former studentsthe lives of the aborted babies the life of the students mom the tragedy of dogmatic authority over love of people the tragedy of organized religion replacing true faith in god this is what is wrong with todays islam and yesterdays judaism and christianity']\n",
      " ['im going to have to disagree with the previous comment and side with maltin on this one this is a second rate excessively vicious western that creaks and groans trying to put across its central theme of the wild west being tamed and kicked aside by the steady march of time it would like to be in the tradition of butch cassidy and the sundance kid but lacks that films poignancy and charm andrew mclaglens direction is limp and the final  minutes or so are a real botch with some incomprehensible strategy on the part of heroes charlton heston and chris mitchum someone give me a holler if you can explain to me why they set that hillside on fire there was something callous about the whole treatment of the rape scene and the womans reaction afterwards certainly did not ring true coburn is plenty nasty as the half breed escaped convict out for revenge but all of his fellow escapees are underdeveloped theyre like bowling pins to be knocked down one by one as the story lurches forward michael parks gives one of his typically shifty lethargic mumbling performances but in this case it was appropriate as his modern style sheriff symbolizes the complacency that technological progress can bring about']\n",
      " ['no one expects the star trek movies to be high art but the fans do expect a movie that is as good as some of the best episodes unfortunately this movie had a muddled implausible plot that just left me cringing  this is by far the worst of the nine so far movies even the chance to watch the well known characters interact in another movie cant save this movie  including the goofy scenes with kirk spock and mccoy at yosemitei would say this movie is not worth a rental and hardly worth watching however for the true fan who needs to see all the movies renting this movie is about the only way youll see it  even the cable channels avoid this movie']]\n"
     ]
    }
   ],
   "source": [
    "print(x)"
   ]
  },
  {
   "cell_type": "code",
   "execution_count": 27,
   "id": "e9987f11",
   "metadata": {},
   "outputs": [
    {
     "name": "stdout",
     "output_type": "stream",
     "text": [
      "[1 1 1 ... 0 0 0]\n"
     ]
    }
   ],
   "source": [
    "print(y)"
   ]
  },
  {
   "cell_type": "code",
   "execution_count": 28,
   "id": "ec1147d8",
   "metadata": {},
   "outputs": [],
   "source": [
    "# using split we divide by x_train and y_train\n",
    "from sklearn.model_selection import train_test_split\n",
    "x_train, x_test, y_train, y_test = train_test_split(x,y,test_size= 0.2,random_state= 123)"
   ]
  },
  {
   "cell_type": "code",
   "execution_count": 29,
   "id": "8459a8e8",
   "metadata": {},
   "outputs": [
    {
     "name": "stdout",
     "output_type": "stream",
     "text": [
      "[['ok first off there may be a spoiler here since i dont know what constitutes giving out too much information my subject line says it all but surely people will want to know why its so stupidfirst off this film follows a bunch of yuppies as they go to a sports game in chicago but wind up taking the wrong exit and winding up in the ghetto scary huh well first of all emilio is driving everyone in the worlds most overblown rvwinnebago tricked out with satellite dishes and crap like that on it so these guys are going to a sports game i forget which though likely the bulls or the white sox since theyre near the ohsoscary ghetto yet they cant even make it down the freeway without having an onboard viewing command center that would put espn to shame yet theyre smart enough to earn livings that would pay for the stuff but are such sports fans that they dont even know which exit to get off at on their way to the game they so lovei gave up on the movie within a half hour after that but the reasons were plentiful they wind up in the ghetto yet their main danger to their existence is denis leary a white guy im no racist but come on in anything resembling reality  and this film was trying to be an urban nightmare  denis leary would not be trying to kill emilio estevez hed be hitching a ride to get the f out of dodge himselfthis is easily one of the dumbest movies ever created although im not familiar with much of the rest of the worlds cinema if mstk were still on they surely would have devoted an episode to this one']\n",
      " ['i came to new port south expecting a surrogate movie about the columbine school massacre similar to gus van sants elephant and certainly the synopsis in the tv guide stating that a student sociopath rebels against the system did give me that impression but this is a very boring movie where little happens so consider yourself warned the story is about maddox  a chicago high school student who decides to strike back at what he perceives to be an authoritarian regime  the major problem is that the character is underwritten and the actor who plays him blake shields is unable to embellish any script deficiencies  you have the gut feeling that maddox should have the evil charisma of hitler  saddam or bin laden but he never comes across as anything more than a petulant truculent teenager and its impossible to believe he could rally any disciples  the subtext of you overthrow one manipulative authoritarian regime only to replace it with another manipulative regime is too obvious which means new port south is an entirely unconvincing drama thats not worth going out of your way to see']\n",
      " ['st watched    out of dirbrett thompson silly juvenilefocused movie about three kids being zapped into their favorite cartoon with their parents experiment the script left much to be desired in this hannabarbara like ripoff of some saturday morning liveaction with people in dinosaur costumes kids show with some goofy cavemen hanging around nothing really to admire about this and nothing much to be said either im just amazed i found this at a blockbuster video store as bad as it was and the way the stores are ridding themselves of old vhs movies i guess they couldnt even sell it so back on the rental rack it went']\n",
      " ...\n",
      " ['there wont be one moment in this film where you arent laughing this is mel brooks at one of his high points and cary elwes carries off the part of robin with convincing humour every time you watch this film you will discover a new joke but the ones you have noticed before will never grow old highly recomended']\n",
      " ['for fans of troma or the cyberpunk genre mixed with a little blood shed then this film for you there is a good amount of blood shed within the confines of this film also the effects can be impressionable and awesome the plot is ridiculous and refreshing not being chained down to what we as audiences are expectant of from films these daysalso notable are the little aliens who i found cute all in all its a good film for fans of the genre also recommended are films such as tetsuothe iron man and versus for that weird japanese film approach filled with wonderful obscurity and bloodshed of course seeing this film you should already have knowledge of the two']\n",
      " ['this movie really shows its age the print i saw was terrible due to age but it is possible that there are better prints out there however this was not the major problem with the movie the problem was that although the film was made in  it was essentially a silent film with only the barest of dialog scattered only a few sentences in the film in the most amateur fashion sometimes the characters backs were turned or they were talking with their hands over their facesall in a pathetic attempt to obscure their lips and cleaverly  hide the fact that the film was dubbed well its true that this czech film would need to be dubbed into many languages but to do it this way was really stupid and obvious it just looked cheapoverall the film looked low budget and silly its really a shame though because there was a grain of a good storya young woman who marries an older man who is either gay andor has no interest in women but in the st century few people would really be willing to sit through this archaic mess even with a few glimpses of the naked and somewhat chunky hedy lamarr it isnt worth all the fuss that accompanied the film when it debuted even by  standards this film was a poorly made dud about the only interesting thing about the film is to see how different lamarr looked in  compared with the glamorous image hollywood created when she came to americashe looks like  completely different peopleits such an incomplete looking and technically inferior film i dont see how it has gotten such rave reviews for technical problems alone the movie cant rate a  or anything near it']]\n"
     ]
    }
   ],
   "source": [
    "print(x_train)"
   ]
  },
  {
   "cell_type": "code",
   "execution_count": 30,
   "id": "b41f0afe",
   "metadata": {},
   "outputs": [
    {
     "name": "stdout",
     "output_type": "stream",
     "text": [
      "[['this movie was beyond awful it was a pimple on the as of the movie industry i know that every movie cant be a hit or for that matter even average but the responsible parties that got together for this epic dud should have been able to see that they had a ticking time bomb on their hands i cant help but think that the cast would get together in between scenes and console each other for being in such a massive heap of dung i can hear it now you getting paid nope you i understand that this flick was more than likely made on a shoe string budget but even with that taken into account it still couldve been better you wait for the appearance of a monstercreature and when you finally see it its a big yawnim so mad at myself for spending a  on this stinker']\n",
      " ['as of this writing john carpenters halloween is nearing its th anniversary it has since spawned  sequels a remake a whole mess of imitations and every year around halloween when they do those top  scariest movies lists its always on there thats quite amazing for a film that was made on a budget of around  and featured a then almost completely unknown cast of up and coming young talent i could go on and on but the big question here is how does the film hold up today and all i can say to that is fantastically pros a simple but spooky opening credits sequence that really sets the mood an unforgettable and goosebumpinducing score by directorcowriter john carpenter and alan howarth great cinematography stellar direction by carpenter who keeps the suspense high gets some great shots and is careful not to show too much of his villain good performances from the then mostly unknown cast a good sense of humor michael myers is one scary evil guy a lot of eerie moments thatll stay with you the pace is slow but steady and never drags unlike most other slasher films this one is more about suspense and terror than blood and a big body countcons probably not nearly as scary now as it was then many of the goofs really stand out final thoughts i want to start out this section by saying this is not my favorite film in the series i know thats not a popular opinion but its really how i feel despite that it truly is an important film that keeps reaching new generations of film buffs and just because its been remade for a new generation doesnt mean itll be forgotten no way no howmy rating ']\n",
      " ['i must admit a slight disappointment with this film i had read a lot about how spectacular it was yet the actual futuristic sequences the age of science take up a very small amount of the film the sets and are excellent when we get to them and there are some startling images but this final sequence is lacking in too many other regardsmuch the best drama of the piece is in the midsection and then it plays as melodrama arising from the high concept sciencefiction nature of it all and insufficiently robust dialogue there is far more human life in this part though with the great ralph richardson sailing gloriously overthetop as the small dictator the boss of the everytown i loved richardsons mannerisms and curt delivery of lines dismissing the presence and ideas of raymond masseys aloof confident visitor this boss is a posturing convincingly deluded figure unable to realise the smallfry nature of his kingdom its not a great role yet richardson makes a lot of iteverytown itself is presumably meant to be england or at least an english town fairly representative of england interesting was the complete avoidance of any religious side to things the things to come seem to revolve around a conflict between warlike barbarism and a a faith in science that seems to have little ultimate goal but to just go on and on there is a belated attempt to raise some arguments and tensions in the last section concerning more personal life yet one is left quite unsatisfied the film hasnt got much interest in subtle complexities it goes for barnstorming spectacle and unsubtle blunt moralism every time and of course recall the hedgedbet finale raymond massey waxing lyrical about how uncertain things are concerning the question of the film being a prediction i must say its not at all bad as such considering that one obviously allows that it is impossible to gets the details of life anything like right the grander conceptions have something to them a war in  well that was perhaps predictable lasting nearly  years mind a nuclear bomb  the super gun or some such contraption  in  a technocratic socialist we dont believe in independent nation statestype government in britain after  hmmm sadly nowhere near on that one chaps  no real politics are gone into here which is a shame all that surfaces is a very laudable antiwar sentiment generally it is assumed that dictatorship  whether boneheadedludditefascist as under the boss or allhandstothepump scientific socialism  will be the deal and these implications are not broached while we must remember that in  there was no knowledge at all of how nazism and communism would turn out  or even how they were turning out  the lack of consideration of this seems meek beside the scope of the filmmakers vision on other mattersmuch of the earlier stuff should  and could  have been cut in my opinion only the briefest stuff from  would have been necessary yet this segment tends to get rather ponderous and it is ages before we get to the richardsonmassey parts i would have liked to have seen more done with margareta scott who is just a trifle sceptical cutting a flashingeyed mediterranean figure to negligible purpose the character is not explored or frankly explained or exploited except for one scene which i shall not spoil and her relationship with the boss isnt explored but then this was the s and there was such a thing as widespread institutional censorship back then edward chapman is mildly amusing in his two roles more so in the first as a hapless chap praying for war only to be bluntly put down by another massey character massey himself helps things a lot playing his parts with a mixture of restraint and sombre gusto contrasting well with a largely diffident cast save for richardson and scott and chapman slightlyi would say that things to come is undoubtedly a very extraordinary film to have been made in britain in  one of the few serious british science fiction films to date indeed its set piece design and harnessing of resources are ravenous marvellous yet the script is ultimately overearnest and at times all over the place the direction is prone to a flatness though it does step up a scenic gear or two upon occasion the cinematographer and mr richardson really do salvage things however respectively creating an awed sense of wonder at technology and an engaging jerky performance that consistently beguiles such a shame there is so little substance or real filmic conception to the whole thing powell and pressburger would have been the perfect directors to take on such a task as this  they are without peer among british directors as daring visual storytellers great helmsmen of characters and dealers in dialogue of the first ratethings to come as it stands is an intriguing oddity well worth perusing yet far short of a metropolis tis much as silly in wells words as that lang film yet with nothing like the astonishing force of it']\n",
      " ...\n",
      " ['there have been many movies about people returning home from wars and having to cope but the war at home is worth seeing portraying vietnam vet jeremy collier emilio estevez having trouble connecting with his texas family much of the movie is very likely to tense you up but nothing can prepare you for what ends up getting revealedpart of what makes this movie so good is how it gives the viewer the feeling of both texas and of the generation gap jeremys parents bob martin sheen and maurine kathy bates clearly have a problem with their sons attitude both about the war and his rejection of americanism his sister karen kimberly williams is uncertain with whom to side but after the dinner there can be no neutralityso we as americans may never be able to fully get over the vietnam war but this movie can probably help us look seriously at how it affected so many people emilio estevez certainly did a good job directing also starring corin nemec and carla gugino']\n",
      " ['heftig og begeistret intense and enthusiastic is a documentarylike story of a male choir up in berlevg in the very northern part of norway where the weather is cold and hostile the days are dark during the winter and the towns are faced with young people moving to the more populated parts in the south of norway where the climate is warmer and there are more opportunitiesthe most beautiful part of this movie is the humans themselves the people in the choir who are aged from  to  all have unique colorful lives and are very enjoyable beings they are characterised by the harsh climate and the recession of the north and have adapted to the way of living required throughout the movie we learn a bit about many people in the choir and we follow them through songs some events in a church and on the harbour and in the end a trip to murmanskthe outside environment filmed in the movie is very beautiful and characterised by the norwegian nature the scenography is also natural and taken directly from the choir and from the peoples lives that we meet thei r livingrooms the bathroom the kettle on the oven there is nothing artificial about this movie not the people not the environment not their music and not their feelings everything is as real as can beit all loses out though when it comes to giving a story it is very beautiful and real but why do we see it is it because of the songs is it because of the nature or is it simply just to see a story about berlevg menschoir about their life and some of the trips they have the message if there is any is that this small society copes with life through such social events like the choir the choir have kept the people together for many many yearsit is all nice but being as popular as it has been seen by almost  in norway there is something wrong there is no beginning or end to it nobody gains or loses anything nobody reveals any message or tries to convince the audience of that this is good or that life up there is great why was this movie madei am sorry it is a nice movie about good people but compared to the average european scandinavian or norwegian movie  this does not deserve a  out of  it is closer to  out of  and that is what i will give itif you see this movie in a theater you should expect the average age on the audience to be around  it has reported to be consistently high in all theaters maybe this is also the reason for it receiving such very high praise in the news and good grades also on the imdb it is a movie about elders for elders it is a movie of i regret nothing in my life and a story saying that living in a small town like berlevg might be a nice life too']\n",
      " ['this is probably karisma at her best apart from zubeidaa nana patekar also gives out his best without even trying the story is very good at times but by the end seems to drag especially when shahrukh comes in the picture what really made me like it were the performances of the leads the dialog delivery as well as the story for what it was it couldve been directed better and edited the supporting case was even great including karimas mother in law even though she just had one shining moment it was great to watch herthe sets were also pretty good i didnt really like their portrayal of a canadian family but once they step in india its as real as it getsoverall i would give it a thumbs up']]\n"
     ]
    }
   ],
   "source": [
    "print(x_test)"
   ]
  },
  {
   "cell_type": "code",
   "execution_count": 31,
   "id": "03937d20",
   "metadata": {},
   "outputs": [
    {
     "name": "stdout",
     "output_type": "stream",
     "text": [
      "[0 0 0 ... 1 1 0]\n"
     ]
    }
   ],
   "source": [
    "print(y_train)"
   ]
  },
  {
   "cell_type": "code",
   "execution_count": 32,
   "id": "b5a6bbfc",
   "metadata": {},
   "outputs": [
    {
     "name": "stdout",
     "output_type": "stream",
     "text": [
      "[0 1 1 ... 1 0 1]\n"
     ]
    }
   ],
   "source": [
    "print(y_test)"
   ]
  },
  {
   "cell_type": "markdown",
   "id": "89201b53",
   "metadata": {},
   "source": [
    "# TfidVectorizer\n",
    "\n",
    "create matrix from features"
   ]
  },
  {
   "cell_type": "code",
   "execution_count": 33,
   "id": "385f52a4",
   "metadata": {},
   "outputs": [],
   "source": [
    "from sklearn.feature_extraction.text import TfidfVectorizer"
   ]
  },
  {
   "cell_type": "code",
   "execution_count": 34,
   "id": "9a070cb9",
   "metadata": {},
   "outputs": [],
   "source": [
    "vectorizer = TfidfVectorizer()"
   ]
  },
  {
   "cell_type": "markdown",
   "id": "5fe3bd9d",
   "metadata": {},
   "source": [
    "the function .squeeze() help changing dataframe to series"
   ]
  },
  {
   "cell_type": "code",
   "execution_count": 35,
   "id": "62cdcef7",
   "metadata": {},
   "outputs": [],
   "source": [
    "X = vectorizer.fit_transform(x_train.squeeze())"
   ]
  },
  {
   "cell_type": "code",
   "execution_count": 36,
   "id": "0b892dee",
   "metadata": {},
   "outputs": [
    {
     "data": {
      "text/plain": [
       "(40000, 186693)"
      ]
     },
     "execution_count": 36,
     "metadata": {},
     "output_type": "execute_result"
    }
   ],
   "source": [
    "X.shape"
   ]
  },
  {
   "cell_type": "markdown",
   "id": "1430acb5",
   "metadata": {},
   "source": [
    "# Build Logistic Regression"
   ]
  },
  {
   "cell_type": "code",
   "execution_count": 37,
   "id": "27f08ccf",
   "metadata": {},
   "outputs": [],
   "source": [
    "from sklearn.linear_model import LogisticRegression"
   ]
  },
  {
   "cell_type": "code",
   "execution_count": 38,
   "id": "969d12b3",
   "metadata": {},
   "outputs": [],
   "source": [
    "logModel = LogisticRegression(max_iter=1000)"
   ]
  },
  {
   "cell_type": "code",
   "execution_count": 39,
   "id": "5fab93d5",
   "metadata": {},
   "outputs": [
    {
     "data": {
      "text/plain": [
       "LogisticRegression(max_iter=1000)"
      ]
     },
     "execution_count": 39,
     "metadata": {},
     "output_type": "execute_result"
    }
   ],
   "source": [
    "logModel.fit(X, y_train.squeeze())"
   ]
  },
  {
   "cell_type": "code",
   "execution_count": 40,
   "id": "67a7c684",
   "metadata": {},
   "outputs": [
    {
     "data": {
      "text/plain": [
       "0.931375"
      ]
     },
     "execution_count": 40,
     "metadata": {},
     "output_type": "execute_result"
    }
   ],
   "source": [
    "accuracy_score(logModel.predict(X), y_train.squeeze())"
   ]
  },
  {
   "cell_type": "markdown",
   "id": "f3071475",
   "metadata": {},
   "source": [
    "# Import Grid Search"
   ]
  },
  {
   "cell_type": "code",
   "execution_count": 41,
   "id": "89655303",
   "metadata": {},
   "outputs": [],
   "source": [
    "from sklearn.model_selection import GridSearchCV"
   ]
  },
  {
   "cell_type": "code",
   "execution_count": 42,
   "id": "f750123a",
   "metadata": {},
   "outputs": [],
   "source": [
    "grid = {\"penalty\":[\"l1\",\"l2\"], \"C\":np.logspace(-4,4, 20)}"
   ]
  },
  {
   "cell_type": "code",
   "execution_count": 46,
   "id": "1d665600",
   "metadata": {},
   "outputs": [
    {
     "name": "stderr",
     "output_type": "stream",
     "text": [
      "C:\\Users\\Alser\\AppData\\Local\\Programs\\Python\\Python39\\lib\\site-packages\\sklearn\\model_selection\\_validation.py:372: FitFailedWarning: \n",
      "100 fits failed out of a total of 200.\n",
      "The score on these train-test partitions for these parameters will be set to nan.\n",
      "If these failures are not expected, you can try to debug them by setting error_score='raise'.\n",
      "\n",
      "Below are more details about the failures:\n",
      "--------------------------------------------------------------------------------\n",
      "100 fits failed with the following error:\n",
      "Traceback (most recent call last):\n",
      "  File \"C:\\Users\\Alser\\AppData\\Local\\Programs\\Python\\Python39\\lib\\site-packages\\sklearn\\model_selection\\_validation.py\", line 680, in _fit_and_score\n",
      "    estimator.fit(X_train, y_train, **fit_params)\n",
      "  File \"C:\\Users\\Alser\\AppData\\Local\\Programs\\Python\\Python39\\lib\\site-packages\\sklearn\\linear_model\\_logistic.py\", line 1461, in fit\n",
      "    solver = _check_solver(self.solver, self.penalty, self.dual)\n",
      "  File \"C:\\Users\\Alser\\AppData\\Local\\Programs\\Python\\Python39\\lib\\site-packages\\sklearn\\linear_model\\_logistic.py\", line 447, in _check_solver\n",
      "    raise ValueError(\n",
      "ValueError: Solver lbfgs supports only 'l2' or 'none' penalties, got l1 penalty.\n",
      "\n",
      "  warnings.warn(some_fits_failed_message, FitFailedWarning)\n",
      "C:\\Users\\Alser\\AppData\\Local\\Programs\\Python\\Python39\\lib\\site-packages\\sklearn\\model_selection\\_search.py:969: UserWarning: One or more of the test scores are non-finite: [     nan 0.705975      nan 0.770975      nan 0.778075      nan 0.780825\n",
      "      nan 0.788425      nan 0.80585       nan 0.83015       nan 0.853325\n",
      "      nan 0.87325       nan 0.8858        nan 0.892375      nan 0.89655\n",
      "      nan 0.896725      nan 0.894575      nan 0.89195       nan 0.889525\n",
      "      nan 0.8884        nan 0.8873        nan 0.886325      nan 0.88575 ]\n",
      "  warnings.warn(\n"
     ]
    },
    {
     "data": {
      "text/plain": [
       "GridSearchCV(estimator=LogisticRegression(max_iter=1000),\n",
       "             param_grid={'C': array([1.00000000e-04, 2.63665090e-04, 6.95192796e-04, 1.83298071e-03,\n",
       "       4.83293024e-03, 1.27427499e-02, 3.35981829e-02, 8.85866790e-02,\n",
       "       2.33572147e-01, 6.15848211e-01, 1.62377674e+00, 4.28133240e+00,\n",
       "       1.12883789e+01, 2.97635144e+01, 7.84759970e+01, 2.06913808e+02,\n",
       "       5.45559478e+02, 1.43844989e+03, 3.79269019e+03, 1.00000000e+04]),\n",
       "                         'penalty': ['l1', 'l2']})"
      ]
     },
     "execution_count": 46,
     "metadata": {},
     "output_type": "execute_result"
    }
   ],
   "source": [
    "logreg_cv = GridSearchCV(logModel,grid)\n",
    "logreg_cv.fit(X, y_train.squeeze())"
   ]
  },
  {
   "cell_type": "code",
   "execution_count": 49,
   "id": "0748cb20",
   "metadata": {},
   "outputs": [
    {
     "name": "stdout",
     "output_type": "stream",
     "text": [
      "tuned hyperparameters :(best parameters)  {'C': 11.288378916846883, 'penalty': 'l2'}\n",
      "accuracy : 0.896725\n"
     ]
    }
   ],
   "source": [
    "print(\"tuned hyperparameters :(best parameters) \",logreg_cv.best_params_)\n",
    "print(\"accuracy :\", logreg_cv.best_score_)"
   ]
  },
  {
   "cell_type": "code",
   "execution_count": 50,
   "id": "e12b0035",
   "metadata": {},
   "outputs": [
    {
     "name": "stdout",
     "output_type": "stream",
     "text": [
      "Score 1.0\n"
     ]
    },
    {
     "name": "stderr",
     "output_type": "stream",
     "text": [
      "C:\\Users\\Alser\\AppData\\Local\\Programs\\Python\\Python39\\lib\\site-packages\\sklearn\\linear_model\\_logistic.py:814: ConvergenceWarning: lbfgs failed to converge (status=1):\n",
      "STOP: TOTAL NO. of ITERATIONS REACHED LIMIT.\n",
      "\n",
      "Increase the number of iterations (max_iter) or scale the data as shown in:\n",
      "    https://scikit-learn.org/stable/modules/preprocessing.html\n",
      "Please also refer to the documentation for alternative solver options:\n",
      "    https://scikit-learn.org/stable/modules/linear_model.html#logistic-regression\n",
      "  n_iter_i = _check_optimize_result(\n"
     ]
    }
   ],
   "source": [
    "logreg2 = LogisticRegression(C=1438.4498828766,penalty=\"l2\")\n",
    "logreg2.fit(X, y_train.squeeze())\n",
    "print(\"Score\", logreg2.score(X, y_train.squeeze()))"
   ]
  },
  {
   "cell_type": "code",
   "execution_count": 51,
   "id": "b84c9024",
   "metadata": {},
   "outputs": [],
   "source": [
    "vectorizer_test = vectorizer.transform(x_test.squeeze())"
   ]
  },
  {
   "cell_type": "code",
   "execution_count": 52,
   "id": "9d7e3ced",
   "metadata": {},
   "outputs": [],
   "source": [
    "y_pred = logModel.predict(vectorizer_test)"
   ]
  },
  {
   "cell_type": "code",
   "execution_count": 53,
   "id": "b9e360f5",
   "metadata": {},
   "outputs": [
    {
     "data": {
      "text/plain": [
       "array([0, 1, 1, ..., 1, 1, 1], dtype=int64)"
      ]
     },
     "execution_count": 53,
     "metadata": {},
     "output_type": "execute_result"
    }
   ],
   "source": [
    "y_pred"
   ]
  },
  {
   "cell_type": "code",
   "execution_count": 54,
   "id": "e292b9d9",
   "metadata": {},
   "outputs": [
    {
     "data": {
      "text/plain": [
       "array([0, 1, 1, ..., 1, 0, 1], dtype=int64)"
      ]
     },
     "execution_count": 54,
     "metadata": {},
     "output_type": "execute_result"
    }
   ],
   "source": [
    "y_test.squeeze()"
   ]
  },
  {
   "cell_type": "code",
   "execution_count": 55,
   "id": "8b5c8582",
   "metadata": {},
   "outputs": [
    {
     "data": {
      "text/plain": [
       "0.8937"
      ]
     },
     "execution_count": 55,
     "metadata": {},
     "output_type": "execute_result"
    }
   ],
   "source": [
    "accuracy_score(y_pred, y_test.squeeze())"
   ]
  },
  {
   "cell_type": "code",
   "execution_count": null,
   "id": "03fe34b9",
   "metadata": {},
   "outputs": [],
   "source": []
  }
 ],
 "metadata": {
  "kernelspec": {
   "display_name": "Python 3 (ipykernel)",
   "language": "python",
   "name": "python3"
  },
  "language_info": {
   "codemirror_mode": {
    "name": "ipython",
    "version": 3
   },
   "file_extension": ".py",
   "mimetype": "text/x-python",
   "name": "python",
   "nbconvert_exporter": "python",
   "pygments_lexer": "ipython3",
   "version": "3.9.7"
  }
 },
 "nbformat": 4,
 "nbformat_minor": 5
}
